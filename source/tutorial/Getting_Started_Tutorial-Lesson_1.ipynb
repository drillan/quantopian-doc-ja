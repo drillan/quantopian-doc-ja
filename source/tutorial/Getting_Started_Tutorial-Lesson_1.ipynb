{
 "cells": [
  {
   "cell_type": "markdown",
   "metadata": {},
   "source": [
    "# LESSON 1 イントロダクション\n",
    "\n",
    "Quantopianへようこそ! この入門チュートリアルでは、Quantopianでのクオンツトレーディング戦略の研究と開発について説明します。このチュートリアルでは、QuantopianのAPIの基本的な機能を多く取り上げており、Quantopianのプラットフォームを初めて利用する方を対象にしています。このチュートリアルを始めるために必要なのは、基本的な [Python](https://docs.python.org/2.7/) のプログラミングスキルです。"
   ]
  },
  {
   "cell_type": "markdown",
   "metadata": {},
   "source": [
    "## 取引アルゴリズムとは？"
   ]
  },
  {
   "cell_type": "markdown",
   "metadata": {},
   "source": [
    "取引アルゴリズムとは、資産を売買するための一連のルールを定義したコンピュータプログラムです。ほとんどの取引アルゴリズムは、過去のデータに基\n",
    "づいて行われた研究から得られた数学的または統計的なモデルに基づいて意思決定を行います。\n",
    "\n"
   ]
  },
  {
   "cell_type": "markdown",
   "metadata": {},
   "source": [
    "## 何から始めればいいですか？"
   ]
  },
  {
   "cell_type": "markdown",
   "metadata": {},
   "source": [
    "取引アルゴリズムを書くために最初にすることは、戦略のベースとなる経済的または統計的な関係を見つけることです。そのためには、QuantopianのResearch環境を使って、利用できる過去のデータセットにアクセスし、分析を行います。Research は [Jupyter Notebook](http://jupyter-notebook-beginner-guide.readthedocs.io/en/latest/what_is_jupyter.html) Python のコードを 'セル' と呼ばれる単位で実行することができます。 \n",
    "\n",
    "例えば、以下のコードは、Apple Inc. (AAPL)の毎日の終値と20日と50日移動平均線をプロットしています。\n",
    "\n"
   ]
  },
  {
   "cell_type": "code",
   "execution_count": 1,
   "metadata": {},
   "outputs": [
    {
     "ename": "ModuleNotFoundError",
     "evalue": "No module named 'quantopian'",
     "output_type": "error",
     "traceback": [
      "\u001b[0;31m---------------------------------------------------------------------------\u001b[0m",
      "\u001b[0;31mModuleNotFoundError\u001b[0m                       Traceback (most recent call last)",
      "\u001b[0;32m<ipython-input-1-521f5d9b8cb4>\u001b[0m in \u001b[0;36m<module>\u001b[0;34m\u001b[0m\n\u001b[1;32m      1\u001b[0m \u001b[0;31m# Research 環境用関数\u001b[0m\u001b[0;34m\u001b[0m\u001b[0;34m\u001b[0m\u001b[0;34m\u001b[0m\u001b[0m\n\u001b[0;32m----> 2\u001b[0;31m \u001b[0;32mfrom\u001b[0m \u001b[0mquantopian\u001b[0m\u001b[0;34m.\u001b[0m\u001b[0mresearch\u001b[0m \u001b[0;32mimport\u001b[0m \u001b[0mprices\u001b[0m\u001b[0;34m,\u001b[0m \u001b[0msymbols\u001b[0m\u001b[0;34m\u001b[0m\u001b[0;34m\u001b[0m\u001b[0m\n\u001b[0m\u001b[1;32m      3\u001b[0m \u001b[0;34m\u001b[0m\u001b[0m\n\u001b[1;32m      4\u001b[0m \u001b[0;31m# Pandas : https://pandas.pydata.org/\u001b[0m\u001b[0;34m\u001b[0m\u001b[0;34m\u001b[0m\u001b[0;34m\u001b[0m\u001b[0m\n\u001b[1;32m      5\u001b[0m \u001b[0;32mimport\u001b[0m \u001b[0mpandas\u001b[0m \u001b[0;32mas\u001b[0m \u001b[0mpd\u001b[0m\u001b[0;34m\u001b[0m\u001b[0;34m\u001b[0m\u001b[0m\n",
      "\u001b[0;31mModuleNotFoundError\u001b[0m: No module named 'quantopian'"
     ]
    }
   ],
   "source": [
    "# Research 環境用関数\n",
    "from quantopian.research import prices, symbols\n",
    "\n",
    "# Pandas : https://pandas.pydata.org/\n",
    "import pandas as pd\n",
    "\n",
    "# AAPL の過去の価格データを照会する\n",
    "aapl_close = prices(\n",
    "    assets=symbols('AAPL'),\n",
    "    start='2013-01-01',\n",
    "    end='2016-01-01',\n",
    ")\n",
    "\n",
    "# AAPL の価格データより20日と50日の移動平均を算出する\n",
    "aapl_sma20 = aapl_close.rolling(20).mean()\n",
    "aapl_sma50 = aapl_close.rolling(50).mean()\n",
    "\n",
    "# Combine results into a pandas DataFrame and plot\n",
    "# 結果を結合して pandas の DataFrameに入れ、描画する\n",
    "pd.DataFrame({   \n",
    "    'AAPL': aapl_close,\n",
    "    'SMA20': aapl_sma20,\n",
    "    'SMA50': aapl_sma50\n",
    "}).plot(\n",
    "    title='AAPL Close Price / SMA Crossover'\n",
    ");"
   ]
  },
  {
   "cell_type": "markdown",
   "metadata": {},
   "source": [
    "次のレッスンでは、Researchを使ってQuantopianのデータセットを触ってみましょう。さらに、取引戦略を定義し、過去のデータに基づいてリターンを効果的に予測できるかどうかを検証します。最後に、その結果をもとに、インタラクティブ開発環境（IDE）で取引アルゴリズムを開発し、テストを行います。\n"
   ]
  }
 ],
 "metadata": {
  "kernelspec": {
   "display_name": "Python 3",
   "language": "python",
   "name": "python3"
  },
  "language_info": {
   "codemirror_mode": {
    "name": "ipython",
    "version": 3
   },
   "file_extension": ".py",
   "mimetype": "text/x-python",
   "name": "python",
   "nbconvert_exporter": "python",
   "pygments_lexer": "ipython3",
   "version": "3.7.5"
  }
 },
 "nbformat": 4,
 "nbformat_minor": 2
}
